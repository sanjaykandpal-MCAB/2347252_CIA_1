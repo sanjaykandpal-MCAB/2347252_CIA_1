{
  "nbformat": 4,
  "nbformat_minor": 0,
  "metadata": {
    "colab": {
      "provenance": []
    },
    "kernelspec": {
      "name": "python3",
      "display_name": "Python 3"
    },
    "language_info": {
      "name": "python"
    }
  },
  "cells": [
    {
      "cell_type": "markdown",
      "source": [
        "Scenario:\n",
        "The XOR gate is known for its complexity, as it outputs 1 only when the inputs are different.\n",
        "This is a challenge for a Single Layer Perceptron since XOR is not linearly separable.\n",
        "Lab Task: Attempt to implement a Single Layer Perceptron in Google Colab to classify the\n",
        "output of an XOR gate. Perform the following steps:"
      ],
      "metadata": {
        "id": "oxDwIE0W4Gbe"
      }
    },
    {
      "cell_type": "markdown",
      "source": [
        "Create the XOR gate's truth table dataset."
      ],
      "metadata": {
        "id": "eAHXkt124Xcv"
      }
    },
    {
      "cell_type": "code",
      "execution_count": 3,
      "metadata": {
        "colab": {
          "base_uri": "https://localhost:8080/"
        },
        "id": "wFb7jre53wIe",
        "outputId": "577cab54-22aa-4a30-8aa5-90debfe66c72"
      },
      "outputs": [
        {
          "output_type": "stream",
          "name": "stdout",
          "text": [
            "Input features (X):\n",
            "[[0 0]\n",
            " [0 1]\n",
            " [1 0]\n",
            " [1 1]]\n",
            "\n",
            "Corresponding labels (y):\n",
            "[0 1 1 0]\n"
          ]
        }
      ],
      "source": [
        "import numpy as np\n",
        "\n",
        "# Define the input features (X) and corresponding labels (y)\n",
        "x = np.array([[0, 0], [0, 1], [1, 0], [1, 1]])\n",
        "y = np.array([0, 1, 1, 0])\n",
        "\n",
        "print(\"Input features (X):\")\n",
        "print(x)\n",
        "print(\"\\nCorresponding labels (y):\")\n",
        "print(y)"
      ]
    },
    {
      "cell_type": "markdown",
      "source": [
        "Implement the perceptron model and train it using the XOR dataset using MCP (McCulloch\n",
        "Pitts) Neuron."
      ],
      "metadata": {
        "id": "gD97JvUL4nib"
      }
    },
    {
      "cell_type": "code",
      "source": [
        "import numpy as np\n",
        "\n",
        "class Perceptron:\n",
        "    def __init__(self, input_size, learning_rate=0.1, epochs=100):\n",
        "        self.weights = np.random.rand(input_size)\n",
        "        self.bias = np.random.rand()\n",
        "        self.learning_rate = learning_rate\n",
        "        self.epochs = epochs\n",
        "\n",
        "    def activate(self, x):\n",
        "        return 1 if x >= 0 else 0\n",
        "\n",
        "    def predict(self, inputs):\n",
        "        sum_inputs = np.dot(inputs, self.weights) + self.bias\n",
        "        return self.activate(sum_inputs)\n",
        "\n",
        "    def train(self, X, y):\n",
        "        for _ in range(self.epochs):\n",
        "            for inputs, label in zip(X, y):\n",
        "                prediction = self.predict(inputs)\n",
        "                error = label - prediction\n",
        "                self.weights += self.learning_rate * error * inputs\n",
        "                self.bias += self.learning_rate * error\n",
        "\n",
        "\n",
        "\n",
        "# Initialize and train the perceptron\n",
        "perceptron = Perceptron(input_size=2)\n",
        "perceptron.train(x, y)\n",
        "\n",
        "# Test the perceptron\n",
        "print(\"Predictions after training:\")\n",
        "for inputs in X:\n",
        "    prediction = perceptron.predict(inputs)\n",
        "    print(f\"Input: {inputs}, Prediction: {prediction}\")\n",
        "\n",
        "# Calculate accuracy\n",
        "accuracy = sum(perceptron.predict(inputs) == label for inputs, label in zip(X, y)) / len(y)\n",
        "print(f\"\\nAccuracy: {accuracy * 100:.2f}%\")"
      ],
      "metadata": {
        "colab": {
          "base_uri": "https://localhost:8080/"
        },
        "id": "YwgUA3dg4ol9",
        "outputId": "6b6e3952-be5a-43aa-a373-734df8cb1ed1"
      },
      "execution_count": 8,
      "outputs": [
        {
          "output_type": "stream",
          "name": "stdout",
          "text": [
            "Predictions after training:\n",
            "Input: [0 0], Prediction: 1\n",
            "Input: [0 1], Prediction: 1\n",
            "Input: [1 0], Prediction: 0\n",
            "Input: [1 1], Prediction: 0\n",
            "\n",
            "Accuracy: 50.00%\n"
          ]
        }
      ]
    },
    {
      "cell_type": "code",
      "source": [
        "import numpy as np\n",
        "\n",
        "class Perceptron:\n",
        "    def __init__(self, input_size, learning_rate=0.1, epochs=200):\n",
        "        self.weights = np.random.rand(input_size)\n",
        "        self.bias = np.random.rand()\n",
        "        self.learning_rate = learning_rate\n",
        "        self.epochs = epochs\n",
        "\n",
        "    def activate(self, x):\n",
        "        return 1 if x >= 0 else 0\n",
        "\n",
        "    def predict(self, inputs):\n",
        "        sum_inputs = np.dot(inputs, self.weights) + self.bias\n",
        "        return self.activate(sum_inputs)\n",
        "\n",
        "    def train(self, X, y):\n",
        "        for _ in range(self.epochs):\n",
        "            for inputs, label in zip(X, y):\n",
        "                prediction = self.predict(inputs)\n",
        "                error = label - prediction\n",
        "                self.weights += self.learning_rate * error * inputs\n",
        "                self.bias += self.learning_rate * error\n",
        "\n",
        "# Create the XOR dataset\n",
        "X = np.array([[0, 0], [0, 1], [1, 0], [1, 1]])\n",
        "y = np.array([0, 1, 1, 0])\n",
        "\n",
        "# Initialize and train the perceptron\n",
        "perceptron = Perceptron(input_size=2)\n",
        "perceptron.train(X, y)\n",
        "\n",
        "# Test the perceptron\n",
        "print(\"Predictions after training:\")\n",
        "for inputs in X:\n",
        "    prediction = perceptron.predict(inputs)\n",
        "    print(f\"Input: {inputs}, Prediction: {prediction}\")\n",
        "\n",
        "# Calculate accuracy\n",
        "accuracy = sum(perceptron.predict(inputs) == label for inputs, label in zip(X, y)) / len(y)\n",
        "print(f\"\\nAccuracy: {accuracy * 100:.2f}%\")"
      ],
      "metadata": {
        "colab": {
          "base_uri": "https://localhost:8080/"
        },
        "id": "AjLKKLlb6l6U",
        "outputId": "bac0499b-e89e-4d43-9452-8bee37b62cd5"
      },
      "execution_count": 16,
      "outputs": [
        {
          "output_type": "stream",
          "name": "stdout",
          "text": [
            "Predictions after training:\n",
            "Input: [0 0], Prediction: 1\n",
            "Input: [0 1], Prediction: 0\n",
            "Input: [1 0], Prediction: 0\n",
            "Input: [1 1], Prediction: 0\n",
            "\n",
            "Accuracy: 25.00%\n"
          ]
        }
      ]
    },
    {
      "cell_type": "markdown",
      "source": [
        "Observe and discuss the perceptron's performance in this scenario.:"
      ],
      "metadata": {
        "id": "B1p8ixFU5IM7"
      }
    },
    {
      "cell_type": "markdown",
      "source": [
        "Perceptron was 50-50 correct , therefore the performance of perceptron was very poor.\n",
        "Therefoe Xor is not linearly separable.\n",
        "\n",
        "After increasing the number of epochs the Accuracy was decreased to 25%.\n"
      ],
      "metadata": {
        "id": "trfrQNzP5K1h"
      }
    },
    {
      "cell_type": "markdown",
      "source": [
        "Implement XOR using Multi-Layer Perceptron."
      ],
      "metadata": {
        "id": "qCYYEo5G6PFt"
      }
    },
    {
      "cell_type": "code",
      "source": [
        "import numpy as np\n",
        "\n",
        "def sigmoid(x):\n",
        "    return 1 / (1 + np.exp(-x))\n",
        "\n",
        "def sigmoid_derivative(x):\n",
        "    return x * (1 - x)\n",
        "\n",
        "class MLP:\n",
        "    def __init__(self, input_size, hidden_size, output_size):\n",
        "        self.input_size = input_size\n",
        "        self.hidden_size = hidden_size\n",
        "        self.output_size = output_size\n",
        "\n",
        "        # Initialize weights and biases\n",
        "        self.weights_ih = np.random.randn(self.input_size, self.hidden_size)\n",
        "        self.bias_h = np.zeros((1, self.hidden_size))\n",
        "        self.weights_ho = np.random.randn(self.hidden_size, self.output_size)\n",
        "        self.bias_o = np.zeros((1, self.output_size))\n",
        "\n",
        "    def forward(self, X):\n",
        "        # Hidden layer\n",
        "        self.hidden = sigmoid(np.dot(X, self.weights_ih) + self.bias_h)\n",
        "        # Output layer\n",
        "        self.output = sigmoid(np.dot(self.hidden, self.weights_ho) + self.bias_o)\n",
        "        return self.output\n",
        "\n",
        "    def backward(self, X, y, output):\n",
        "        # Output layer error\n",
        "        output_error = y - output\n",
        "        output_delta = output_error * sigmoid_derivative(output)\n",
        "\n",
        "        # Hidden layer error\n",
        "        hidden_error = np.dot(output_delta, self.weights_ho.T)\n",
        "        hidden_delta = hidden_error * sigmoid_derivative(self.hidden)\n",
        "\n",
        "        # Update weights and biases\n",
        "        self.weights_ho += np.dot(self.hidden.T, output_delta)\n",
        "        self.bias_o += np.sum(output_delta, axis=0, keepdims=True)\n",
        "        self.weights_ih += np.dot(X.T, hidden_delta)\n",
        "        self.bias_h += np.sum(hidden_delta, axis=0, keepdims=True)\n",
        "\n",
        "    def train(self, X, y, epochs):\n",
        "        for _ in range(epochs):\n",
        "            output = self.forward(X)\n",
        "            self.backward(X, y, output)\n",
        "\n",
        "    def predict(self, X):\n",
        "        return (self.forward(X) > 0.5).astype(int)\n",
        "\n",
        "# Create the XOR dataset\n",
        "X = np.array([[0, 0], [0, 1], [1, 0], [1, 1]])\n",
        "y = np.array([[0], [1], [1], [0]])\n",
        "\n",
        "# Initialize and train the MLP\n",
        "mlp = MLP(input_size=2, hidden_size=2, output_size=1)\n",
        "mlp.train(x, y, epochs=10000)\n",
        "\n",
        "# Test the MLP\n",
        "print(\"Predictions after training:\")\n",
        "for inputs in X:\n",
        "    prediction = mlp.predict(inputs.reshape(1, -1))\n",
        "    print(f\"Input: {inputs}, Prediction: {prediction[0][0]}\")\n",
        "\n",
        "# Calculate accuracy\n",
        "accuracy = np.mean(mlp.predict(X) == y)\n",
        "print(f\"\\nAccuracy: {accuracy * 100:.2f}%\")"
      ],
      "metadata": {
        "colab": {
          "base_uri": "https://localhost:8080/"
        },
        "id": "YuPGBxQM6NqO",
        "outputId": "7418e8f1-c3e3-4e23-fde0-517e3e80087e"
      },
      "execution_count": 11,
      "outputs": [
        {
          "output_type": "stream",
          "name": "stdout",
          "text": [
            "Predictions after training:\n",
            "Input: [0 0], Prediction: 0\n",
            "Input: [0 1], Prediction: 1\n",
            "Input: [1 0], Prediction: 1\n",
            "Input: [1 1], Prediction: 0\n",
            "\n",
            "Accuracy: 100.00%\n"
          ]
        }
      ]
    },
    {
      "cell_type": "markdown",
      "source": [
        "Question 2:\n",
        "\n",
        "A. Sentiment Analysis Twitter Airline"
      ],
      "metadata": {
        "id": "Rkco_z3B7Pap"
      }
    },
    {
      "cell_type": "markdown",
      "source": [
        "Design a sentiment analysis classification model using backpropagation and activation functions\n",
        "such as sigmoid, ReLU, or tanh. Implement a neural network that can classify sentiment\n",
        "(positive/negative) from a small dataset. Demonstrate how backpropagation updates the weights\n",
        "during the training process. (link Provided at the top of the page to download the dataset)\n",
        "Task:"
      ],
      "metadata": {
        "id": "dTg5oC3-7VSF"
      }
    },
    {
      "cell_type": "markdown",
      "source": [
        "Create a simple feed-forward neural network for binary sentiment classification\n",
        "(positive/negative)."
      ],
      "metadata": {
        "id": "-U4Z1Vqw83fh"
      }
    },
    {
      "cell_type": "markdown",
      "source": [
        "Preprocessing of Dataset"
      ],
      "metadata": {
        "id": "JrWRCQ-8LN_9"
      }
    },
    {
      "cell_type": "code",
      "source": [
        "import pandas as pd\n",
        "import numpy as np\n",
        "from sklearn.model_selection import train_test_split\n",
        "from sklearn.feature_extraction.text import CountVectorizer\n",
        "from sklearn.preprocessing import StandardScaler\n",
        "\n",
        "# Load the data\n",
        "df = pd.read_csv('Tweets.csv')  # Adjust the filename as needed\n",
        "\n",
        "# Select relevant columns\n",
        "X = df['text']  # This is the column containing the tweet text\n",
        "y = df['negativereason'].notna().astype(int)  # 1 if there's a negative reason, 0 otherwise\n",
        "\n",
        "# Convert text to numerical features using Bag of Words\n",
        "vectorizer = CountVectorizer(max_features=1000)  # Limit to top 1000 words\n",
        "X = vectorizer.fit_transform(X).toarray()\n",
        "\n",
        "# Split the data into training and testing sets\n",
        "X_train, X_test, y_train, y_test = train_test_split(X, y, test_size=0.2, random_state=42)\n",
        "\n",
        "# Normalize the features\n",
        "scaler = StandardScaler()\n",
        "X_train = scaler.fit_transform(X_train)\n",
        "X_test = scaler.transform(X_test)\n",
        "\n",
        "# Convert to numpy arrays and reshape y\n",
        "X_train = np.array(X_train)\n",
        "X_test = np.array(X_test)\n",
        "y_train = np.array(y_train).reshape(-1, 1)\n",
        "y_test = np.array(y_test).reshape(-1, 1)\n",
        "\n",
        "print(f\"Training data shape: {X_train.shape}\")\n",
        "print(f\"Testing data shape: {X_test.shape}\")"
      ],
      "metadata": {
        "colab": {
          "base_uri": "https://localhost:8080/"
        },
        "id": "S_yv5pqm84dJ",
        "outputId": "06b60197-73e8-44de-ff56-f73009106a78"
      },
      "execution_count": 24,
      "outputs": [
        {
          "output_type": "stream",
          "name": "stdout",
          "text": [
            "Training data shape: (11712, 1000)\n",
            "Testing data shape: (2928, 1000)\n"
          ]
        }
      ]
    },
    {
      "cell_type": "code",
      "source": [
        "import numpy as np\n",
        "\n",
        "class SentimentNeuralNetwork:\n",
        "    def __init__(self, input_size, hidden_size, output_size=1):\n",
        "        self.input_size = input_size\n",
        "        self.hidden_size = hidden_size\n",
        "        self.output_size = output_size\n",
        "\n",
        "        # Initialize weights and biases\n",
        "        self.W1 = np.random.randn(self.input_size, self.hidden_size) / np.sqrt(self.input_size)\n",
        "        self.b1 = np.zeros((1, self.hidden_size))\n",
        "        self.W2 = np.random.randn(self.hidden_size, self.output_size) / np.sqrt(self.hidden_size)\n",
        "        self.b2 = np.zeros((1, self.output_size))\n",
        "\n",
        "    def sigmoid(self, x):\n",
        "        return 1 / (1 + np.exp(-np.clip(x, -709, 709)))\n",
        "\n",
        "    def sigmoid_derivative(self, x):\n",
        "        return x * (1 - x)\n",
        "\n",
        "    def forward(self, X):\n",
        "        # Hidden layer\n",
        "        self.z1 = np.dot(X, self.W1) + self.b1\n",
        "        self.a1 = self.sigmoid(self.z1)\n",
        "\n",
        "        # Output layer\n",
        "        self.z2 = np.dot(self.a1, self.W2) + self.b2\n",
        "        self.a2 = self.sigmoid(self.z2)\n",
        "\n",
        "        return self.a2\n",
        "\n",
        "    def backward(self, X, y, output):\n",
        "        m = X.shape[0]\n",
        "\n",
        "        # Output layer\n",
        "        dz2 = output - y\n",
        "        dW2 = (1 / m) * np.dot(self.a1.T, dz2)\n",
        "        db2 = (1 / m) * np.sum(dz2, axis=0, keepdims=True)\n",
        "\n",
        "        # Hidden layer\n",
        "        dz1 = np.dot(dz2, self.W2.T) * self.sigmoid_derivative(self.a1)\n",
        "        dW1 = (1 / m) * np.dot(X.T, dz1)\n",
        "        db1 = (1 / m) * np.sum(dz1, axis=0, keepdims=True)\n",
        "\n",
        "        return dW1, db1, dW2, db2\n",
        "\n",
        "    def train(self, X, y, learning_rate, epochs):\n",
        "        for _ in range(epochs):\n",
        "            # Forward pass\n",
        "            output = self.forward(X)\n",
        "\n",
        "            # Backward pass\n",
        "            dW1, db1, dW2, db2 = self.backward(X, y, output)\n",
        "\n",
        "            # Update weights and biases\n",
        "            self.W1 -= learning_rate * dW1\n",
        "            self.b1 -= learning_rate * db1\n",
        "            self.W2 -= learning_rate * dW2\n",
        "            self.b2 -= learning_rate * db2\n",
        "\n",
        "    def predict(self, X):\n",
        "        return (self.forward(X) > 0.5).astype(int)\n",
        "\n",
        "# Example usage (you'll replace this with your actual preprocessed data)\n",
        "if __name__ == \"__main__\":\n",
        "    # Sample data\n",
        "     # Replace these with your preprocessed data\n",
        "    X_train = X_train  # Your preprocessed features (e.g., from CountVectorizer)\n",
        "    y_train = y_train  # Your preprocessed labels (0 for negative, 1 for positive)\n",
        "\n",
        "    # Create and train the model\n",
        "    input_size = X_train.shape[1]  # Number of features\n",
        "    hidden_size = 64  # You can adjust this\n",
        "    model = SentimentNeuralNetwork(input_size=input_size, hidden_size=hidden_size)\n",
        "    model.train(X_train, y_train, learning_rate=0.01, epochs=1000)\n",
        "\n",
        "    # Test the model\n",
        "    X_test = X_test  # Your preprocessed test features\n",
        "    y_test = y_test  # Your preprocessed test labels\n",
        "\n",
        "    predictions = model.predict(X_test)"
      ],
      "metadata": {
        "id": "sLSXnn70Azak"
      },
      "execution_count": 25,
      "outputs": []
    },
    {
      "cell_type": "markdown",
      "source": [
        "Use backpropagation to optimize the model's weights based on error calculation."
      ],
      "metadata": {
        "id": "69t7hExR84yi"
      }
    },
    {
      "cell_type": "code",
      "source": [
        "import numpy as np\n",
        "\n",
        "class SentimentNeuralNetwork:\n",
        "    def __init__(self, input_size, hidden_size, output_size=1):\n",
        "        self.input_size = input_size\n",
        "        self.hidden_size = hidden_size\n",
        "        self.output_size = output_size\n",
        "\n",
        "        # Initialize weights and biases\n",
        "        self.W1 = np.random.randn(self.input_size, self.hidden_size) / np.sqrt(self.input_size)\n",
        "        self.b1 = np.zeros((1, self.hidden_size))\n",
        "        self.W2 = np.random.randn(self.hidden_size, self.output_size) / np.sqrt(self.hidden_size)\n",
        "        self.b2 = np.zeros((1, self.output_size))\n",
        "\n",
        "    def sigmoid(self, x):\n",
        "        return 1 / (1 + np.exp(-np.clip(x, -709, 709)))\n",
        "\n",
        "    def sigmoid_derivative(self, x):\n",
        "        return x * (1 - x)\n",
        "\n",
        "    def forward(self, X):\n",
        "        # Hidden layer\n",
        "        self.z1 = np.dot(X, self.W1) + self.b1\n",
        "        self.a1 = self.sigmoid(self.z1)\n",
        "\n",
        "        # Output layer\n",
        "        self.z2 = np.dot(self.a1, self.W2) + self.b2\n",
        "        self.a2 = self.sigmoid(self.z2)\n",
        "\n",
        "        return self.a2\n",
        "\n",
        "    def compute_loss(self, y_true, y_pred):\n",
        "        m = y_true.shape[0]\n",
        "        log_likelihood = -np.sum(y_true * np.log(y_pred) + (1 - y_true) * np.log(1 - y_pred))\n",
        "        return log_likelihood / m\n",
        "\n",
        "    def backward(self, X, y, output):\n",
        "        m = X.shape[0]\n",
        "\n",
        "        # Output layer\n",
        "        dz2 = output - y\n",
        "        dW2 = (1 / m) * np.dot(self.a1.T, dz2)\n",
        "        db2 = (1 / m) * np.sum(dz2, axis=0, keepdims=True)\n",
        "\n",
        "        # Hidden layer\n",
        "        dz1 = np.dot(dz2, self.W2.T) * self.sigmoid_derivative(self.a1)\n",
        "        dW1 = (1 / m) * np.dot(X.T, dz1)\n",
        "        db1 = (1 / m) * np.sum(dz1, axis=0, keepdims=True)\n",
        "\n",
        "        return dW1, db1, dW2, db2\n",
        "\n",
        "    def train(self, X, y, learning_rate, epochs, batch_size=32):\n",
        "        m = X.shape[0]\n",
        "        losses = []\n",
        "\n",
        "        for epoch in range(epochs):\n",
        "            # Mini-batch gradient descent\n",
        "            for i in range(0, m, batch_size):\n",
        "                X_batch = X[i:i+batch_size]\n",
        "                y_batch = y[i:i+batch_size]\n",
        "\n",
        "                # Forward pass\n",
        "                output = self.forward(X_batch)\n",
        "\n",
        "                # Backward pass\n",
        "                dW1, db1, dW2, db2 = self.backward(X_batch, y_batch, output)\n",
        "\n",
        "                # Update weights and biases\n",
        "                self.W1 -= learning_rate * dW1\n",
        "                self.b1 -= learning_rate * db1\n",
        "                self.W2 -= learning_rate * dW2\n",
        "                self.b2 -= learning_rate * db2\n",
        "\n",
        "            # Compute loss for the entire epoch\n",
        "            output = self.forward(X)\n",
        "            loss = self.compute_loss(y, output)\n",
        "            losses.append(loss)\n",
        "\n",
        "            if epoch % 100 == 0:\n",
        "                print(f\"Epoch {epoch}, Loss: {loss}\")\n",
        "\n",
        "        return losses\n",
        "\n",
        "    def predict(self, X):\n",
        "        return (self.forward(X) > 0.5).astype(int)\n",
        "\n",
        "# Example usage\n",
        "if __name__ == \"__main__\":\n",
        "\n",
        "    X_train = X_train\n",
        "    y_train = y_train\n",
        "    X_test = X_test\n",
        "    y_test = y_test\n",
        "\n",
        "    # Create and train the model\n",
        "    input_size = X_train.shape[1]\n",
        "    hidden_size = 64  # You can adjust this\n",
        "    model = SentimentNeuralNetwork(input_size=input_size, hidden_size=hidden_size)\n",
        "\n",
        "    losses = model.train(X_train, y_train, learning_rate=0.01, epochs=1000, batch_size=32)\n",
        "\n",
        "    # Evaluate the model\n",
        "    predictions = model.predict(X_test)\n",
        "\n",
        "    from sklearn.metrics import accuracy_score, classification_report\n",
        "    accuracy = accuracy_score(y_test, predictions)\n",
        "    print(f\"Accuracy: {accuracy}\")\n",
        "    print(classification_report(y_test, predictions, target_names=['Negative', 'Positive']))\n",
        "\n",
        "    # Plot the loss over epochs\n",
        "    import matplotlib.pyplot as plt\n",
        "    plt.plot(losses)\n",
        "    plt.title('Training Loss over Epochs')\n",
        "    plt.xlabel('Epoch')\n",
        "    plt.ylabel('Loss')\n",
        "    plt.show()"
      ],
      "metadata": {
        "colab": {
          "base_uri": "https://localhost:8080/",
          "height": 908
        },
        "id": "nqEIaJ6J881w",
        "outputId": "cf84df53-09ed-4c32-b206-c91137e16c06"
      },
      "execution_count": 26,
      "outputs": [
        {
          "output_type": "stream",
          "name": "stdout",
          "text": [
            "Epoch 0, Loss: 0.61337535180763\n",
            "Epoch 100, Loss: 0.17245063781463568\n",
            "Epoch 200, Loss: 0.07366091499833563\n"
          ]
        },
        {
          "output_type": "stream",
          "name": "stderr",
          "text": [
            "<ipython-input-26-3616a110afa3>:34: RuntimeWarning: divide by zero encountered in log\n",
            "  log_likelihood = -np.sum(y_true * np.log(y_pred) + (1 - y_true) * np.log(1 - y_pred))\n",
            "<ipython-input-26-3616a110afa3>:34: RuntimeWarning: invalid value encountered in multiply\n",
            "  log_likelihood = -np.sum(y_true * np.log(y_pred) + (1 - y_true) * np.log(1 - y_pred))\n"
          ]
        },
        {
          "output_type": "stream",
          "name": "stdout",
          "text": [
            "Epoch 300, Loss: nan\n",
            "Epoch 400, Loss: nan\n",
            "Epoch 500, Loss: nan\n",
            "Epoch 600, Loss: nan\n",
            "Epoch 700, Loss: nan\n",
            "Epoch 800, Loss: nan\n",
            "Epoch 900, Loss: nan\n",
            "Accuracy: 0.8121584699453552\n",
            "              precision    recall  f1-score   support\n",
            "\n",
            "    Negative       0.73      0.75      0.74      1039\n",
            "    Positive       0.86      0.85      0.85      1889\n",
            "\n",
            "    accuracy                           0.81      2928\n",
            "   macro avg       0.79      0.80      0.80      2928\n",
            "weighted avg       0.81      0.81      0.81      2928\n",
            "\n"
          ]
        },
        {
          "output_type": "display_data",
          "data": {
            "text/plain": [
              "<Figure size 640x480 with 1 Axes>"
            ],
            "image/png": "[encoded data removed]"
          },
          "metadata": {}
        }
      ]
    },
    {
      "cell_type": "markdown",
      "source": [
        "Experiment with different activation functions (sigmoid, ReLU, tanh) in the hidden layer\n",
        "and compare the model's performance."
      ],
      "metadata": {
        "id": "w__UxlDq89Td"
      }
    },
    {
      "cell_type": "code",
      "source": [
        "import numpy as np\n",
        "from sklearn.metrics import accuracy_score, classification_report\n",
        "import matplotlib.pyplot as plt\n",
        "\n",
        "class SentimentNeuralNetwork:\n",
        "    def __init__(self, input_size, hidden_size, output_size=1, activation='sigmoid'):\n",
        "        self.input_size = input_size\n",
        "        self.hidden_size = hidden_size\n",
        "        self.output_size = output_size\n",
        "        self.activation = activation\n",
        "\n",
        "        # Initialize weights and biases\n",
        "        self.W1 = np.random.randn(self.input_size, self.hidden_size) / np.sqrt(self.input_size)\n",
        "        self.b1 = np.zeros((1, self.hidden_size))\n",
        "        self.W2 = np.random.randn(self.hidden_size, self.output_size) / np.sqrt(self.hidden_size)\n",
        "        self.b2 = np.zeros((1, self.output_size))\n",
        "\n",
        "    def sigmoid(self, x):\n",
        "        return 1 / (1 + np.exp(-np.clip(x, -709, 709)))\n",
        "\n",
        "    def sigmoid_derivative(self, x):\n",
        "        return x * (1 - x)\n",
        "\n",
        "    def relu(self, x):\n",
        "        return np.maximum(0, x)\n",
        "\n",
        "    def relu_derivative(self, x):\n",
        "        return (x > 0).astype(float)\n",
        "\n",
        "    def tanh(self, x):\n",
        "        return np.tanh(x)\n",
        "\n",
        "    def tanh_derivative(self, x):\n",
        "        return 1 - np.square(x)\n",
        "\n",
        "    def activate(self, x):\n",
        "        if self.activation == 'sigmoid':\n",
        "            return self.sigmoid(x)\n",
        "        elif self.activation == 'relu':\n",
        "            return self.relu(x)\n",
        "        elif self.activation == 'tanh':\n",
        "            return self.tanh(x)\n",
        "\n",
        "    def activate_derivative(self, x):\n",
        "        if self.activation == 'sigmoid':\n",
        "            return self.sigmoid_derivative(x)\n",
        "        elif self.activation == 'relu':\n",
        "            return self.relu_derivative(x)\n",
        "        elif self.activation == 'tanh':\n",
        "            return self.tanh_derivative(x)\n",
        "\n",
        "    def forward(self, X):\n",
        "        # Hidden layer\n",
        "        self.z1 = np.dot(X, self.W1) + self.b1\n",
        "        self.a1 = self.activate(self.z1)\n",
        "\n",
        "        # Output layer (always sigmoid for binary classification)\n",
        "        self.z2 = np.dot(self.a1, self.W2) + self.b2\n",
        "        self.a2 = self.sigmoid(self.z2)\n",
        "\n",
        "        return self.a2\n",
        "\n",
        "    def backward(self, X, y, output):\n",
        "        m = X.shape[0]\n",
        "\n",
        "        # Output layer\n",
        "        dz2 = output - y\n",
        "        dW2 = (1 / m) * np.dot(self.a1.T, dz2)\n",
        "        db2 = (1 / m) * np.sum(dz2, axis=0, keepdims=True)\n",
        "\n",
        "        # Hidden layer\n",
        "        dz1 = np.dot(dz2, self.W2.T) * self.activate_derivative(self.a1)\n",
        "        dW1 = (1 / m) * np.dot(X.T, dz1)\n",
        "        db1 = (1 / m) * np.sum(dz1, axis=0, keepdims=True)\n",
        "\n",
        "        return dW1, db1, dW2, db2\n",
        "\n",
        "    def train(self, X, y, learning_rate, epochs):\n",
        "        losses = []\n",
        "        for _ in range(epochs):\n",
        "            # Forward pass\n",
        "            output = self.forward(X)\n",
        "\n",
        "            # Backward pass\n",
        "            dW1, db1, dW2, db2 = self.backward(X, y, output)\n",
        "\n",
        "            # Update weights and biases\n",
        "            self.W1 -= learning_rate * dW1\n",
        "            self.b1 -= learning_rate * db1\n",
        "            self.W2 -= learning_rate * dW2\n",
        "            self.b2 -= learning_rate * db2\n",
        "\n",
        "            # Compute loss\n",
        "            loss = -np.mean(y * np.log(output) + (1 - y) * np.log(1 - output))\n",
        "            losses.append(loss)\n",
        "\n",
        "        return losses\n",
        "\n",
        "    def predict(self, X):\n",
        "        return (self.forward(X) > 0.5).astype(int)\n",
        "\n",
        "def train_and_evaluate(X_train, y_train, X_test, y_test, activation):\n",
        "    input_size = X_train.shape[1]\n",
        "    hidden_size = 64\n",
        "    model = SentimentNeuralNetwork(input_size=input_size, hidden_size=hidden_size, activation=activation)\n",
        "\n",
        "    losses = model.train(X_train, y_train, learning_rate=0.01, epochs=1000)\n",
        "\n",
        "    train_predictions = model.predict(X_train)\n",
        "    test_predictions = model.predict(X_test)\n",
        "\n",
        "    train_accuracy = accuracy_score(y_train, train_predictions)\n",
        "    test_accuracy = accuracy_score(y_test, test_predictions)\n",
        "\n",
        "    print(f\"\\nActivation Function: {activation}\")\n",
        "    print(f\"Train Accuracy: {train_accuracy:.4f}\")\n",
        "    print(f\"Test Accuracy: {test_accuracy:.4f}\")\n",
        "    print(\"Classification Report:\")\n",
        "    print(classification_report(y_test, test_predictions, target_names=['Negative', 'Positive']))\n",
        "\n",
        "    return losses, train_accuracy, test_accuracy\n",
        "\n",
        "# Main execution\n",
        "if __name__ == \"__main__\":\n",
        "\n",
        "    X_train = X_train\n",
        "    y_train = y_train\n",
        "    X_test = X_test\n",
        "    y_test = y_test\n",
        "\n",
        "    activations = ['sigmoid', 'relu', 'tanh']\n",
        "    results = {}\n",
        "\n",
        "    plt.figure(figsize=(15, 5))\n",
        "\n",
        "    for i, activation in enumerate(activations):\n",
        "        losses, train_acc, test_acc = train_and_evaluate(X_train, y_train, X_test, y_test, activation)\n",
        "        results[activation] = {'losses': losses, 'train_acc': train_acc, 'test_acc': test_acc}\n",
        "\n",
        "        plt.subplot(1, 3, i+1)\n",
        "        plt.plot(losses)\n",
        "        plt.title(f'{activation.capitalize()} Activation')\n",
        "        plt.xlabel('Epoch')\n",
        "        plt.ylabel('Loss')\n",
        "\n",
        "    plt.tight_layout()\n",
        "    plt.show()\n",
        "\n",
        "    # Compare final accuracies\n",
        "    for activation in activations:\n",
        "        print(f\"\\n{activation.capitalize()}:\")\n",
        "        print(f\"  Final Train Accuracy: {results[activation]['train_acc']:.4f}\")\n",
        "        print(f\"  Final Test Accuracy: {results[activation]['test_acc']:.4f}\")"
      ],
      "metadata": {
        "colab": {
          "base_uri": "https://localhost:8080/",
          "height": 1000
        },
        "id": "U6c2LOhA9APw",
        "outputId": "ec377f9e-87da-4706-8594-23bc31e2f504"
      },
      "execution_count": 27,
      "outputs": [
        {
          "output_type": "stream",
          "name": "stdout",
          "text": [
            "\n",
            "Activation Function: sigmoid\n",
            "Train Accuracy: 0.7905\n",
            "Test Accuracy: 0.7947\n",
            "Classification Report:\n",
            "              precision    recall  f1-score   support\n",
            "\n",
            "    Negative       0.85      0.51      0.64      1039\n",
            "    Positive       0.78      0.95      0.86      1889\n",
            "\n",
            "    accuracy                           0.79      2928\n",
            "   macro avg       0.82      0.73      0.75      2928\n",
            "weighted avg       0.81      0.79      0.78      2928\n",
            "\n",
            "\n",
            "Activation Function: relu\n",
            "Train Accuracy: 0.8695\n",
            "Test Accuracy: 0.8193\n",
            "Classification Report:\n",
            "              precision    recall  f1-score   support\n",
            "\n",
            "    Negative       0.75      0.73      0.74      1039\n",
            "    Positive       0.85      0.87      0.86      1889\n",
            "\n",
            "    accuracy                           0.82      2928\n",
            "   macro avg       0.80      0.80      0.80      2928\n",
            "weighted avg       0.82      0.82      0.82      2928\n",
            "\n",
            "\n",
            "Activation Function: tanh\n",
            "Train Accuracy: 0.8645\n",
            "Test Accuracy: 0.8241\n",
            "Classification Report:\n",
            "              precision    recall  f1-score   support\n",
            "\n",
            "    Negative       0.75      0.76      0.75      1039\n",
            "    Positive       0.87      0.86      0.86      1889\n",
            "\n",
            "    accuracy                           0.82      2928\n",
            "   macro avg       0.81      0.81      0.81      2928\n",
            "weighted avg       0.82      0.82      0.82      2928\n",
            "\n"
          ]
        },
        {
          "output_type": "display_data",
          "data": {
            "text/plain": [
              "<Figure size 1500x500 with 3 Axes>"
            ],
            "image/png": "[encoded data removed]"
          },
          "metadata": {}
        },
        {
          "output_type": "stream",
          "name": "stdout",
          "text": [
            "\n",
            "Sigmoid:\n",
            "  Final Train Accuracy: 0.7905\n",
            "  Final Test Accuracy: 0.7947\n",
            "\n",
            "Relu:\n",
            "  Final Train Accuracy: 0.8695\n",
            "  Final Test Accuracy: 0.8193\n",
            "\n",
            "Tanh:\n",
            "  Final Train Accuracy: 0.8645\n",
            "  Final Test Accuracy: 0.8241\n"
          ]
        }
      ]
    },
    {
      "cell_type": "markdown",
      "source": [
        "Evaluate the model on a test set using accuracy and plot the loss over epochs."
      ],
      "metadata": {
        "id": "kHHxeZQb9Cif"
      }
    },
    {
      "cell_type": "code",
      "source": [
        "import numpy as np\n",
        "import pandas as pd\n",
        "from sklearn.model_selection import train_test_split\n",
        "from sklearn.feature_extraction.text import CountVectorizer\n",
        "from sklearn.preprocessing import StandardScaler\n",
        "\n",
        "\n",
        "df = pd.read_csv('Tweets.csv')\n",
        "\n",
        "\n",
        "X = df['text']\n",
        "y = (df['airline_sentiment'] == 'positive').astype(int)  # Binary sentiment\n",
        "\n",
        "# Convert text to numerical features\n",
        "vectorizer = CountVectorizer(max_features=1000)\n",
        "X = vectorizer.fit_transform(X).toarray()\n",
        "\n",
        "# First, split into train+val and test sets\n",
        "X_train_val, X_test, y_train_val, y_test = train_test_split(X, y, test_size=0.2, random_state=42)\n",
        "\n",
        "# Then split train+val into train and validation sets\n",
        "X_train, X_val, y_train, y_val = train_test_split(X_train_val, y_train_val, test_size=0.2, random_state=42)\n",
        "\n",
        "# Scale features\n",
        "scaler = StandardScaler()\n",
        "X_train = scaler.fit_transform(X_train)\n",
        "X_val = scaler.transform(X_val)\n",
        "X_test = scaler.transform(X_test)\n",
        "\n",
        "# Convert to numpy arrays\n",
        "y_train = y_train.values.reshape(-1, 1)\n",
        "y_val = y_val.values.reshape(-1, 1)\n",
        "y_test = y_test.values.reshape(-1, 1)\n",
        "\n",
        "print(f\"Training set shape: {X_train.shape}\")\n",
        "print(f\"Validation set shape: {X_val.shape}\")\n",
        "print(f\"Test set shape: {X_test.shape}\")"
      ],
      "metadata": {
        "colab": {
          "base_uri": "https://localhost:8080/"
        },
        "id": "rDeaTXme9DWq",
        "outputId": "3a105a1e-b1fc-4f7a-b846-bb489de7e4e0"
      },
      "execution_count": 29,
      "outputs": [
        {
          "output_type": "stream",
          "name": "stdout",
          "text": [
            "Training set shape: (9369, 1000)\n",
            "Validation set shape: (2343, 1000)\n",
            "Test set shape: (2928, 1000)\n"
          ]
        }
      ]
    },
    {
      "cell_type": "code",
      "source": [
        "import numpy as np\n",
        "import matplotlib.pyplot as plt\n",
        "from sklearn.metrics import accuracy_score, classification_report\n",
        "\n",
        "class SentimentNeuralNetwork:\n",
        "    def __init__(self, input_size, hidden_size, output_size=1):\n",
        "        self.input_size = input_size\n",
        "        self.hidden_size = hidden_size\n",
        "        self.output_size = output_size\n",
        "\n",
        "        # Initialize weights and biases\n",
        "        self.W1 = np.random.randn(self.input_size, self.hidden_size) / np.sqrt(self.input_size)\n",
        "        self.b1 = np.zeros((1, self.hidden_size))\n",
        "        self.W2 = np.random.randn(self.hidden_size, self.output_size) / np.sqrt(self.hidden_size)\n",
        "        self.b2 = np.zeros((1, self.output_size))\n",
        "\n",
        "    def sigmoid(self, x):\n",
        "        return 1 / (1 + np.exp(-np.clip(x, -709, 709)))\n",
        "\n",
        "    def sigmoid_derivative(self, x):\n",
        "        return x * (1 - x)\n",
        "\n",
        "    def forward(self, X):\n",
        "        # Hidden layer\n",
        "        self.z1 = np.dot(X, self.W1) + self.b1\n",
        "        self.a1 = self.sigmoid(self.z1)\n",
        "\n",
        "        # Output layer\n",
        "        self.z2 = np.dot(self.a1, self.W2) + self.b2\n",
        "        self.a2 = self.sigmoid(self.z2)\n",
        "\n",
        "        return self.a2\n",
        "\n",
        "    def backward(self, X, y, output):\n",
        "        m = X.shape[0]\n",
        "\n",
        "        # Output layer\n",
        "        dz2 = output - y\n",
        "        dW2 = (1 / m) * np.dot(self.a1.T, dz2)\n",
        "        db2 = (1 / m) * np.sum(dz2, axis=0, keepdims=True)\n",
        "\n",
        "        # Hidden layer\n",
        "        dz1 = np.dot(dz2, self.W2.T) * self.sigmoid_derivative(self.a1)\n",
        "        dW1 = (1 / m) * np.dot(X.T, dz1)\n",
        "        db1 = (1 / m) * np.sum(dz1, axis=0, keepdims=True)\n",
        "\n",
        "        return dW1, db1, dW2, db2\n",
        "\n",
        "    def train(self, X_train, y_train, X_val, y_val, learning_rate, epochs):\n",
        "        train_losses = []\n",
        "        val_losses = []\n",
        "        train_accuracies = []\n",
        "        val_accuracies = []\n",
        "\n",
        "        for epoch in range(epochs):\n",
        "            # Forward pass\n",
        "            train_output = self.forward(X_train)\n",
        "\n",
        "            # Backward pass\n",
        "            dW1, db1, dW2, db2 = self.backward(X_train, y_train, train_output)\n",
        "\n",
        "            # Update weights and biases\n",
        "            self.W1 -= learning_rate * dW1\n",
        "            self.b1 -= learning_rate * db1\n",
        "            self.W2 -= learning_rate * dW2\n",
        "            self.b2 -= learning_rate * db2\n",
        "\n",
        "            # Compute and store train loss and accuracy\n",
        "            train_loss = self.compute_loss(y_train, train_output)\n",
        "            train_losses.append(train_loss)\n",
        "            train_accuracy = self.compute_accuracy(X_train, y_train)\n",
        "            train_accuracies.append(train_accuracy)\n",
        "\n",
        "            # Compute and store validation loss and accuracy\n",
        "            val_output = self.forward(X_val)\n",
        "            val_loss = self.compute_loss(y_val, val_output)\n",
        "            val_losses.append(val_loss)\n",
        "            val_accuracy = self.compute_accuracy(X_val, y_val)\n",
        "            val_accuracies.append(val_accuracy)\n",
        "\n",
        "            if epoch % 100 == 0:\n",
        "                print(f\"Epoch {epoch}, Train Loss: {train_loss:.4f}, Val Loss: {val_loss:.4f}, \"\n",
        "                      f\"Train Acc: {train_accuracy:.4f}, Val Acc: {val_accuracy:.4f}\")\n",
        "\n",
        "        return train_losses, val_losses, train_accuracies, val_accuracies\n",
        "\n",
        "    def compute_loss(self, y_true, y_pred):\n",
        "        return -np.mean(y_true * np.log(y_pred + 1e-15) + (1 - y_true) * np.log(1 - y_pred + 1e-15))\n",
        "\n",
        "    def compute_accuracy(self, X, y_true):\n",
        "        y_pred = self.predict(X)\n",
        "        return accuracy_score(y_true, y_pred)\n",
        "\n",
        "    def predict(self, X):\n",
        "        return (self.forward(X) > 0.5).astype(int)\n",
        "\n",
        "def plot_training_progress(train_losses, val_losses, train_accuracies, val_accuracies):\n",
        "    epochs = range(1, len(train_losses) + 1)\n",
        "\n",
        "    plt.figure(figsize=(12, 5))\n",
        "\n",
        "    plt.subplot(1, 2, 1)\n",
        "    plt.plot(epochs, train_losses, 'b-', label='Train Loss')\n",
        "    plt.plot(epochs, val_losses, 'r-', label='Validation Loss')\n",
        "    plt.title('Training and Validation Loss')\n",
        "    plt.xlabel('Epochs')\n",
        "    plt.ylabel('Loss')\n",
        "    plt.legend()\n",
        "\n",
        "    plt.subplot(1, 2, 2)\n",
        "    plt.plot(epochs, train_accuracies, 'b-', label='Train Accuracy')\n",
        "    plt.plot(epochs, val_accuracies, 'r-', label='Validation Accuracy')\n",
        "    plt.title('Training and Validation Accuracy')\n",
        "    plt.xlabel('Epochs')\n",
        "    plt.ylabel('Accuracy')\n",
        "    plt.legend()\n",
        "\n",
        "    plt.tight_layout()\n",
        "    plt.show()\n",
        "\n",
        "# Main execution\n",
        "if __name__ == \"__main__\":\n",
        "\n",
        "\n",
        "    # Create and train the model\n",
        "    input_size = X_train.shape[1]\n",
        "    hidden_size = 64  # You can adjust this\n",
        "    model = SentimentNeuralNetwork(input_size=input_size, hidden_size=hidden_size)\n",
        "\n",
        "    train_losses, val_losses, train_accuracies, val_accuracies = model.train(\n",
        "        X_train, y_train, X_val, y_val, learning_rate=0.01, epochs=1000\n",
        "    )\n",
        "\n",
        "    # Plot training progress\n",
        "    plot_training_progress(train_losses, val_losses, train_accuracies, val_accuracies)\n",
        "\n",
        "    # Evaluate on test set\n",
        "    test_predictions = model.predict(X_test)\n",
        "    test_accuracy = accuracy_score(y_test, test_predictions)\n",
        "    print(f\"\\nTest Accuracy: {test_accuracy:.4f}\")\n",
        "    print(\"\\nClassification Report:\")\n",
        "    print(classification_report(y_test, test_predictions, target_names=['Negative', 'Positive']))"
      ],
      "metadata": {
        "colab": {
          "base_uri": "https://localhost:8080/",
          "height": 893
        },
        "id": "xRxDjcpwKCZF",
        "outputId": "ed3cc5f5-f9c3-46ab-a0da-23cce26eb981"
      },
      "execution_count": 31,
      "outputs": [
        {
          "output_type": "stream",
          "name": "stdout",
          "text": [
            "Epoch 0, Train Loss: 0.6689, Val Loss: 0.6552, Train Acc: 0.6871, Val Acc: 0.6620\n",
            "Epoch 100, Train Loss: 0.4400, Val Loss: 0.4403, Train Acc: 0.8373, Val Acc: 0.8378\n",
            "Epoch 200, Train Loss: 0.4325, Val Loss: 0.4333, Train Acc: 0.8373, Val Acc: 0.8378\n",
            "Epoch 300, Train Loss: 0.4257, Val Loss: 0.4271, Train Acc: 0.8373, Val Acc: 0.8378\n",
            "Epoch 400, Train Loss: 0.4188, Val Loss: 0.4210, Train Acc: 0.8373, Val Acc: 0.8378\n",
            "Epoch 500, Train Loss: 0.4119, Val Loss: 0.4147, Train Acc: 0.8373, Val Acc: 0.8378\n",
            "Epoch 600, Train Loss: 0.4047, Val Loss: 0.4083, Train Acc: 0.8373, Val Acc: 0.8378\n",
            "Epoch 700, Train Loss: 0.3974, Val Loss: 0.4018, Train Acc: 0.8373, Val Acc: 0.8378\n",
            "Epoch 800, Train Loss: 0.3898, Val Loss: 0.3950, Train Acc: 0.8373, Val Acc: 0.8378\n",
            "Epoch 900, Train Loss: 0.3820, Val Loss: 0.3881, Train Acc: 0.8373, Val Acc: 0.8382\n"
          ]
        },
        {
          "output_type": "display_data",
          "data": {
            "text/plain": [
              "<Figure size 1200x500 with 2 Axes>"
            ],
            "image/png": "[encoded data removed]"
          },
          "metadata": {}
        },
        {
          "output_type": "stream",
          "name": "stdout",
          "text": [
            "\n",
            "Test Accuracy: 0.8436\n",
            "\n",
            "Classification Report:\n",
            "              precision    recall  f1-score   support\n",
            "\n",
            "    Negative       0.84      1.00      0.92      2469\n",
            "    Positive       1.00      0.00      0.00       459\n",
            "\n",
            "    accuracy                           0.84      2928\n",
            "   macro avg       0.92      0.50      0.46      2928\n",
            "weighted avg       0.87      0.84      0.77      2928\n",
            "\n"
          ]
        }
      ]
    }
  ]
}